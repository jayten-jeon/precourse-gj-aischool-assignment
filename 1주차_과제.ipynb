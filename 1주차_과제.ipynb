{
  "nbformat": 4,
  "nbformat_minor": 0,
  "metadata": {
    "colab": {
      "name": "1주차 과제.ipynb",
      "provenance": [],
      "include_colab_link": true
    },
    "kernelspec": {
      "name": "python3",
      "display_name": "Python 3"
    }
  },
  "cells": [
    {
      "cell_type": "markdown",
      "metadata": {
        "id": "view-in-github",
        "colab_type": "text"
      },
      "source": [
        "<a href=\"https://colab.research.google.com/github/jayten42/precourse-gj-aischool-assignment/blob/master/1%EC%A3%BC%EC%B0%A8_%EA%B3%BC%EC%A0%9C.ipynb\" target=\"_parent\"><img src=\"https://colab.research.google.com/assets/colab-badge.svg\" alt=\"Open In Colab\"/></a>"
      ]
    },
    {
      "cell_type": "markdown",
      "metadata": {
        "id": "YGqZV630R144",
        "colab_type": "text"
      },
      "source": [
        "# 대표적인 인공지능이 활용 되는 분야\n",
        "\n",
        "## 언어 (자연어처리)\n",
        "- 일반적으로 자연어처리 또는 NLP라고 부른다.\n",
        "- 주로 기계 번역, 챗봇, 감정 분석 등에 활용된다.\n",
        "- 대표적인 서비스로는 Google 번역기, 네이버 Papago 또는 스캐터랩의 핑퐁 서비스가 있다. \n",
        "\n",
        "##음성\n",
        "- 음성 데이터를 활용한 서비스에는 네이버 클로바 더빙, 보이저엑스의 Vrew 등이 있다.\n",
        "\n",
        "##이미지\n",
        "- 이미지 데이터를 활용한 서비스에는 네이버 클로바 OCR 등이 있다.\n",
        "\n",
        "##자율주행\n",
        "- 자율주행 서비스에는 구글 웨이모가 대표적이며, 최근에는 전동킥보드 자율주행, 배달 드론, 음식 서빙 로봇 등이 있다."
      ]
    },
    {
      "cell_type": "code",
      "metadata": {
        "id": "wkrcdvLmFJdH",
        "colab_type": "code",
        "colab": {}
      },
      "source": [
        ""
      ],
      "execution_count": null,
      "outputs": []
    }
  ]
}